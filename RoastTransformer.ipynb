{
  "nbformat": 4,
  "nbformat_minor": 0,
  "metadata": {
    "colab": {
      "name": "RoastTransformer",
      "provenance": [],
      "collapsed_sections": [],
      "authorship_tag": "ABX9TyMdKGdfNwqEFzgB6MorGaFW",
      "include_colab_link": true
    },
    "kernelspec": {
      "name": "python3",
      "display_name": "Python 3"
    },
    "language_info": {
      "name": "python"
    }
  },
  "cells": [
    {
      "cell_type": "markdown",
      "metadata": {
        "id": "view-in-github",
        "colab_type": "text"
      },
      "source": [
        "<a href=\"https://colab.research.google.com/github/TimOgden/RoastBot/blob/master/RoastTransformer.ipynb\" target=\"_parent\"><img src=\"https://colab.research.google.com/assets/colab-badge.svg\" alt=\"Open In Colab\"/></a>"
      ]
    },
    {
      "cell_type": "code",
      "metadata": {
        "id": "bI8mKYZ73VRe"
      },
      "source": [
        "import tensorflow as tf"
      ],
      "execution_count": 1,
      "outputs": []
    },
    {
      "cell_type": "code",
      "metadata": {
        "id": "S3I_x2h53k80"
      },
      "source": [
        "class EncoderLayer(tf.keras.layers.Layer):\n",
        "  def __init__(self, num_heads, fully_connected_units=256, dropout=.5, name=None):\n",
        "    super().__init__(name=name)\n",
        "    self.self_attention = tf.keras.layers.MultiHeadAttention(num_heads, key_dim=768)\n",
        "    self.fc1 = tf.keras.layers.Dense(fully_connected_units, activation=tf.keras.activations.gelu)\n",
        "    self.fc2 = tf.keras.layers.Dense(fully_connected_units, activation=tf.keras.activations.gelu)\n",
        "    self.dropout = tf.keras.layers.Dropout(dropout)\n",
        "    self.layer_norm = tf.keras.layers.LayerNormalization()\n",
        "    self.add = tf.keras.layers.Add()\n",
        "  def __call__(self, x, training=True):\n",
        "    attention_weights, attention_scores = self.self_attention(x, x, return_attention_scores=True)\n",
        "    normalized = self.layer_norm(self.add([x, attention_weights]))\n",
        "    x = self.fc2(self.dropout(self.fc1(normalized)))\n",
        "    return self.layer_norm(self.add([x, normalized])), attention_scores"
      ],
      "execution_count": 58,
      "outputs": []
    },
    {
      "cell_type": "code",
      "metadata": {
        "id": "yopctMb1DEGi"
      },
      "source": [
        "encoder_layer = EncoderLayer(8, name='test_layer')"
      ],
      "execution_count": 59,
      "outputs": []
    },
    {
      "cell_type": "code",
      "metadata": {
        "id": "G254k3JlDQM4"
      },
      "source": [
        "input_tensor = tf.keras.Input(shape=[None, 16*16])"
      ],
      "execution_count": 60,
      "outputs": []
    },
    {
      "cell_type": "code",
      "metadata": {
        "colab": {
          "base_uri": "https://localhost:8080/"
        },
        "id": "hTCOLGdKDo5U",
        "outputId": "b054f170-2b2a-4cdf-c82a-0d81c8c89b10"
      },
      "source": [
        "output_tensor, output_weights = encoder_layer(input_tensor, input_tensor)\n",
        "print(output_tensor.shape, output_weights.shape)"
      ],
      "execution_count": 62,
      "outputs": [
        {
          "output_type": "stream",
          "text": [
            "(None, None, 256) (None, 8, None, None)\n"
          ],
          "name": "stdout"
        }
      ]
    },
    {
      "cell_type": "code",
      "metadata": {
        "id": "QCpg4jrPFpuA"
      },
      "source": [
        ""
      ],
      "execution_count": null,
      "outputs": []
    }
  ]
}