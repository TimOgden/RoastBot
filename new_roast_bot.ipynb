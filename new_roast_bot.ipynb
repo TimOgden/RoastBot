{
 "cells": [
  {
   "cell_type": "code",
   "execution_count": 15,
   "metadata": {},
   "outputs": [],
   "source": [
    "import tensorflow as tf\n",
    "import numpy as np\n",
    "import os\n",
    "import cv2\n",
    "import matplotlib.pyplot as plt\n",
    "from tqdm import tqdm_notebook as tqdm"
   ]
  },
  {
   "cell_type": "code",
   "execution_count": 2,
   "metadata": {},
   "outputs": [],
   "source": [
    "class BahdanauAttention(tf.keras.Model):\n",
    "    def __init__(self, units):\n",
    "        super(BahdanauAttention, self).__init__()\n",
    "        self.W1 = tf.keras.layers.Dense(units)\n",
    "        self.W2 = tf.keras.layers.Dense(units)\n",
    "        self.V = tf.keras.layers.Dense(1)\n",
    "    \n",
    "    def call(self, features, hidden):\n",
    "        hidden_with_time_axis = tf.expand_dims(hidden, 1)\n",
    "        attention_hidden_layer = (tf.nn.tanh(self.W1(features) + self.W2(hidden_with_time_axis)))\n",
    "        score = self.V(attention_hidden_layer)\n",
    "        attention_weights = tf.nn.softmax(score,axis=1)\n",
    "        context_vector = attention_weights * features\n",
    "        context_vector = tf.reduce_sum(context_vector, axis=1)\n",
    "        \n",
    "        return context_vector, attention_weights"
   ]
  },
  {
   "cell_type": "code",
   "execution_count": 3,
   "metadata": {},
   "outputs": [],
   "source": [
    "class RoastBot(tf.keras.Model):\n",
    "    def __init__(self, vocab_size, embedding_dim, batch_size, units):\n",
    "        super(RoastBot, self).__init__()\n",
    "        self.units = units\n",
    "        \n",
    "        self.embedding = tf.keras.layers.Dense(embedding_dim)\n",
    "        self.gru = tf.keras.layers.GRU(self.units,\n",
    "                                      return_sequences=True,\n",
    "                                      return_state=True,\n",
    "                                      recurrent_initializer='glorot_uniform')\n",
    "        self.fc1 = tf.keras.layers.Dense(self.units)\n",
    "        self.fc2 = tf.keras.layers.Dense(vocab_size)\n",
    "        \n",
    "        self.attention = BahdanauAttention(self.units)\n",
    "    \n",
    "    def call(self, x, features, hidden):\n",
    "        context_vector, attention_weights = self.attention(features, hidden)\n",
    "        \n",
    "        # x shape after embedding = (batch_size, 1, embedding_dim)\n",
    "        x = self.embedding(x)\n",
    "        \n",
    "        # x shape after concatenation = (batch_size, 1, embedding_dim + hidden_size)\n",
    "        x = tf.concat([tf.expand_dims(context_vector,1),x],axis=-1)\n",
    "        \n",
    "        # pass the concatenated vector to the GRU\n",
    "        output, state = self.gru(x)\n",
    "        \n",
    "        # shape = (batch_size, max_len, hidden_size)\n",
    "        x = self.fc1(output)\n",
    "        \n",
    "        # x shape = (batch_size * max_len, hidden_size)\n",
    "        x = tf.reshape(x, (-1, x.shape[2]))\n",
    "        \n",
    "        # output shape = (batch_size * max_len, vocab)\n",
    "        x = self.fc2(x)\n",
    "        \n",
    "        return x, state, attention_weights\n",
    "    \n",
    "    def reset_state(self, batch_size):\n",
    "        return tf.zeros((batch_size, self.units))"
   ]
  },
  {
   "cell_type": "code",
   "execution_count": 4,
   "metadata": {},
   "outputs": [],
   "source": [
    "# using InceptionV3 to generate latent encodings for all the images in the dataset\n",
    "inceptionv3 = tf.keras.applications.InceptionV3(include_top=False,weights='imagenet')\n",
    "new_input = inceptionv3.input\n",
    "hidden_layer = inceptionv3.layers[-1].output\n",
    "\n",
    "image_features_extract_model = tf.keras.Model(new_input, hidden_layer)"
   ]
  },
  {
   "cell_type": "code",
   "execution_count": 5,
   "metadata": {},
   "outputs": [],
   "source": [
    "def load_image(image_path):\n",
    "    \n",
    "    img = to_rgb(cv2.imread(image_path))\n",
    "    img = tf.image.resize(img, (299,299))\n",
    "    img = tf.keras.applications.inception_v3.preprocess_input(img)\n",
    "    return img, image_path"
   ]
  },
  {
   "cell_type": "code",
   "execution_count": 36,
   "metadata": {},
   "outputs": [
    {
     "data": {
      "application/vnd.jupyter.widget-view+json": {
       "model_id": "10a3ad0366b644218d36e4c103b187c9",
       "version_major": 2,
       "version_minor": 0
      },
      "text/plain": [
       "HBox(children=(IntProgress(value=0, max=2568), HTML(value='')))"
      ]
     },
     "metadata": {},
     "output_type": "display_data"
    }
   ],
   "source": [
    "faces_encodings = {}\n",
    "for imgfile in tqdm(os.listdir('./faces')):\n",
    "    if os.path.exists(os.path.join('./faces',imgfile)):\n",
    "        img = load_image(os.path.join('./faces',imgfile))\n",
    "        latent_encoding = image_features_extract_model(tf.expand_dims(img[0],0))\n",
    "        #print(latent_encoding.shape) # (1,8,8,2048)\n",
    "        _id = imgfile[:imgfile.index('.')]\n",
    "        faces_encodings[_id] = tf.squeeze(latent_encoding)\n",
    "np.save('face_encodings.npy', faces_encodings)"
   ]
  },
  {
   "cell_type": "code",
   "execution_count": 38,
   "metadata": {},
   "outputs": [
    {
     "data": {
      "text/plain": [
       "[('3by2xz',\n",
       "  <tf.Tensor: shape=(8, 8, 2048), dtype=float32, numpy=\n",
       "  array([[[0.        , 0.20139402, 0.        , ..., 0.        ,\n",
       "           0.        , 0.7235668 ],\n",
       "          [0.        , 0.        , 0.        , ..., 0.03393092,\n",
       "           0.        , 0.5621339 ],\n",
       "          [0.        , 0.        , 0.        , ..., 0.3382535 ,\n",
       "           0.        , 0.13498339],\n",
       "          ...,\n",
       "          [0.        , 0.        , 1.8850945 , ..., 0.        ,\n",
       "           0.35264537, 0.27327865],\n",
       "          [0.        , 0.5720546 , 4.3493476 , ..., 0.        ,\n",
       "           0.98142004, 1.2343827 ],\n",
       "          [0.        , 0.09435235, 2.7578583 , ..., 0.        ,\n",
       "           1.6376914 , 1.3026143 ]],\n",
       "  \n",
       "         [[0.46119723, 0.14942905, 0.        , ..., 0.3104864 ,\n",
       "           0.        , 0.59534055],\n",
       "          [1.7638388 , 0.        , 0.        , ..., 0.6168278 ,\n",
       "           0.        , 0.6513353 ],\n",
       "          [0.73465633, 0.        , 0.        , ..., 0.51864094,\n",
       "           0.        , 0.62195754],\n",
       "          ...,\n",
       "          [0.06337376, 0.        , 1.2834698 , ..., 0.        ,\n",
       "           0.53335726, 0.30961993],\n",
       "          [0.        , 0.        , 1.2116015 , ..., 0.        ,\n",
       "           1.0383666 , 0.98073053],\n",
       "          [0.        , 0.        , 1.8759979 , ..., 0.        ,\n",
       "           1.5778263 , 1.1526562 ]],\n",
       "  \n",
       "         [[0.        , 0.5328852 , 0.1235612 , ..., 3.075385  ,\n",
       "           0.        , 0.24341288],\n",
       "          [0.81069005, 0.5108224 , 2.136035  , ..., 3.2234504 ,\n",
       "           0.        , 0.431128  ],\n",
       "          [0.51195574, 0.7747623 , 0.        , ..., 2.7650967 ,\n",
       "           0.        , 0.74983674],\n",
       "          ...,\n",
       "          [0.11283043, 0.        , 0.25043124, ..., 0.        ,\n",
       "           0.2340291 , 0.47589615],\n",
       "          [0.        , 0.        , 0.4242204 , ..., 0.        ,\n",
       "           0.49407923, 0.88724875],\n",
       "          [0.        , 0.        , 0.26901734, ..., 0.        ,\n",
       "           1.1396906 , 1.2130661 ]],\n",
       "  \n",
       "         ...,\n",
       "  \n",
       "         [[0.        , 0.346032  , 0.4236808 , ..., 1.7754993 ,\n",
       "           0.67138875, 0.        ],\n",
       "          [0.        , 1.9966543 , 0.        , ..., 1.6177185 ,\n",
       "           0.8526332 , 0.        ],\n",
       "          [0.        , 0.27983806, 0.01060249, ..., 1.4249686 ,\n",
       "           0.7384208 , 0.        ],\n",
       "          ...,\n",
       "          [0.        , 0.        , 0.24598926, ..., 0.        ,\n",
       "           0.        , 1.2058465 ],\n",
       "          [0.33135083, 0.3466078 , 0.15503085, ..., 0.        ,\n",
       "           0.        , 1.2976203 ],\n",
       "          [0.        , 0.17629084, 0.        , ..., 0.        ,\n",
       "           0.        , 1.1068362 ]],\n",
       "  \n",
       "         [[0.        , 0.        , 0.30500582, ..., 0.14185475,\n",
       "           0.        , 0.16551937],\n",
       "          [0.        , 0.55771327, 0.        , ..., 0.        ,\n",
       "           0.        , 0.27527207],\n",
       "          [0.25375742, 0.7165309 , 0.        , ..., 0.        ,\n",
       "           0.        , 0.48236164],\n",
       "          ...,\n",
       "          [0.7277036 , 0.        , 0.        , ..., 0.        ,\n",
       "           0.17070971, 0.6066559 ],\n",
       "          [1.2974815 , 0.        , 0.        , ..., 0.        ,\n",
       "           0.        , 0.867967  ],\n",
       "          [1.324294  , 0.2553367 , 0.        , ..., 0.        ,\n",
       "           0.        , 0.71556723]],\n",
       "  \n",
       "         [[0.        , 0.        , 0.        , ..., 0.4921037 ,\n",
       "           0.        , 0.34126613],\n",
       "          [0.352777  , 0.        , 0.        , ..., 0.29326147,\n",
       "           0.        , 0.2695096 ],\n",
       "          [1.136097  , 0.15015352, 0.10900387, ..., 0.        ,\n",
       "           0.        , 0.19171445],\n",
       "          ...,\n",
       "          [2.0680962 , 0.824875  , 0.49320784, ..., 0.        ,\n",
       "           0.48741293, 0.39109373],\n",
       "          [1.4660033 , 0.05526561, 0.        , ..., 0.        ,\n",
       "           0.        , 0.6002438 ],\n",
       "          [1.388405  , 0.9787332 , 0.        , ..., 0.        ,\n",
       "           0.        , 0.34213975]]], dtype=float32)>),\n",
       " ('3byjn8',\n",
       "  <tf.Tensor: shape=(8, 8, 2048), dtype=float32, numpy=\n",
       "  array([[[0.        , 2.118948  , 0.        , ..., 0.        ,\n",
       "           0.03212228, 0.        ],\n",
       "          [0.        , 0.6738484 , 0.15285459, ..., 0.        ,\n",
       "           0.25651482, 0.        ],\n",
       "          [0.        , 0.        , 0.        , ..., 0.        ,\n",
       "           0.        , 0.        ],\n",
       "          ...,\n",
       "          [0.        , 0.        , 0.        , ..., 0.8062894 ,\n",
       "           0.        , 0.        ],\n",
       "          [0.        , 0.        , 0.        , ..., 1.1330887 ,\n",
       "           0.        , 0.        ],\n",
       "          [0.        , 0.        , 0.36996529, ..., 1.4969726 ,\n",
       "           0.        , 0.        ]],\n",
       "  \n",
       "         [[0.        , 1.0243928 , 0.23191842, ..., 0.2581303 ,\n",
       "           0.47960067, 0.30372518],\n",
       "          [0.        , 0.        , 0.12518173, ..., 0.05713056,\n",
       "           0.49419785, 0.15623973],\n",
       "          [0.        , 0.        , 0.        , ..., 0.        ,\n",
       "           0.09920551, 0.        ],\n",
       "          ...,\n",
       "          [0.        , 0.        , 0.        , ..., 1.8039123 ,\n",
       "           0.19203568, 0.        ],\n",
       "          [0.        , 0.        , 0.25243628, ..., 2.8780415 ,\n",
       "           0.3980858 , 0.        ],\n",
       "          [0.        , 0.        , 0.63613737, ..., 3.481531  ,\n",
       "           0.        , 0.        ]],\n",
       "  \n",
       "         [[0.10516709, 0.4546049 , 0.34447554, ..., 1.1176438 ,\n",
       "           1.2431111 , 0.95707804],\n",
       "          [0.        , 0.7299465 , 0.22081548, ..., 0.76232564,\n",
       "           1.1598201 , 0.74845296],\n",
       "          [0.11966728, 0.5123744 , 0.        , ..., 0.25956163,\n",
       "           0.7578432 , 0.23300637],\n",
       "          ...,\n",
       "          [0.        , 0.        , 4.4702945 , ..., 3.7244022 ,\n",
       "           0.8535242 , 1.2296144 ],\n",
       "          [0.        , 0.        , 5.625603  , ..., 5.095787  ,\n",
       "           0.8948375 , 0.95988476],\n",
       "          [0.        , 0.        , 3.9772928 , ..., 5.646303  ,\n",
       "           0.3856763 , 1.2695907 ]],\n",
       "  \n",
       "         ...,\n",
       "  \n",
       "         [[0.15216878, 0.        , 0.07758203, ..., 0.6101846 ,\n",
       "           1.0016361 , 0.        ],\n",
       "          [0.        , 0.        , 0.        , ..., 0.7157573 ,\n",
       "           0.57658327, 0.        ],\n",
       "          [0.        , 0.22233203, 0.        , ..., 0.8692225 ,\n",
       "           0.39364108, 0.        ],\n",
       "          ...,\n",
       "          [0.06061506, 0.9218098 , 0.4496213 , ..., 1.5119475 ,\n",
       "           0.25931287, 1.1677717 ],\n",
       "          [0.5421326 , 0.91490805, 1.2066981 , ..., 1.8766477 ,\n",
       "           0.31794673, 0.67777705],\n",
       "          [0.3916069 , 0.        , 1.0317105 , ..., 1.8647759 ,\n",
       "           0.3594093 , 0.3199921 ]],\n",
       "  \n",
       "         [[0.        , 0.        , 0.        , ..., 0.        ,\n",
       "           0.72608966, 0.        ],\n",
       "          [0.        , 0.        , 0.        , ..., 0.01391213,\n",
       "           0.21616454, 0.        ],\n",
       "          [0.        , 0.        , 0.        , ..., 0.28835616,\n",
       "           0.        , 0.        ],\n",
       "          ...,\n",
       "          [0.        , 0.        , 0.17342189, ..., 0.24375148,\n",
       "           0.38500014, 0.7754126 ],\n",
       "          [0.30340505, 0.01927878, 1.1361816 , ..., 0.23274915,\n",
       "           0.05827291, 0.        ],\n",
       "          [0.97271013, 0.        , 0.22991297, ..., 0.13562182,\n",
       "           0.        , 0.        ]],\n",
       "  \n",
       "         [[0.        , 0.        , 0.        , ..., 0.        ,\n",
       "           0.57294947, 0.        ],\n",
       "          [0.        , 0.        , 0.        , ..., 0.        ,\n",
       "           0.16318987, 0.        ],\n",
       "          [0.        , 0.1365749 , 0.40198073, ..., 0.        ,\n",
       "           0.        , 0.        ],\n",
       "          ...,\n",
       "          [0.        , 0.        , 0.67041636, ..., 0.        ,\n",
       "           0.65788263, 0.791997  ],\n",
       "          [0.        , 0.        , 0.0397779 , ..., 0.        ,\n",
       "           0.314942  , 0.        ],\n",
       "          [0.        , 0.        , 0.        , ..., 0.        ,\n",
       "           0.        , 0.        ]]], dtype=float32)>),\n",
       " ('3c3ifn',\n",
       "  <tf.Tensor: shape=(8, 8, 2048), dtype=float32, numpy=\n",
       "  array([[[0.00000000e+00, 6.52087688e-01, 0.00000000e+00, ...,\n",
       "           0.00000000e+00, 0.00000000e+00, 0.00000000e+00],\n",
       "          [0.00000000e+00, 0.00000000e+00, 0.00000000e+00, ...,\n",
       "           0.00000000e+00, 0.00000000e+00, 0.00000000e+00],\n",
       "          [0.00000000e+00, 0.00000000e+00, 1.17762518e+00, ...,\n",
       "           2.73611963e-01, 0.00000000e+00, 0.00000000e+00],\n",
       "          ...,\n",
       "          [6.73724771e-01, 0.00000000e+00, 1.80603540e+00, ...,\n",
       "           1.23203158e+00, 1.22791175e-02, 3.64280164e-01],\n",
       "          [0.00000000e+00, 0.00000000e+00, 9.83292103e-01, ...,\n",
       "           1.30505717e+00, 0.00000000e+00, 1.15399456e+00],\n",
       "          [0.00000000e+00, 0.00000000e+00, 8.73620033e-01, ...,\n",
       "           1.54967475e+00, 0.00000000e+00, 1.56225371e+00]],\n",
       "  \n",
       "         [[0.00000000e+00, 9.54523802e-01, 1.66387916e-01, ...,\n",
       "           0.00000000e+00, 0.00000000e+00, 0.00000000e+00],\n",
       "          [0.00000000e+00, 0.00000000e+00, 7.68903792e-02, ...,\n",
       "           0.00000000e+00, 0.00000000e+00, 0.00000000e+00],\n",
       "          [0.00000000e+00, 0.00000000e+00, 1.01402795e+00, ...,\n",
       "           4.59315836e-01, 9.28138718e-02, 0.00000000e+00],\n",
       "          ...,\n",
       "          [6.62815571e-01, 0.00000000e+00, 9.52514887e-01, ...,\n",
       "           9.94956732e-01, 0.00000000e+00, 4.53935385e-01],\n",
       "          [0.00000000e+00, 0.00000000e+00, 4.22801167e-01, ...,\n",
       "           9.60561693e-01, 0.00000000e+00, 1.18259537e+00],\n",
       "          [0.00000000e+00, 0.00000000e+00, 2.04063207e-01, ...,\n",
       "           1.12599647e+00, 0.00000000e+00, 1.65194559e+00]],\n",
       "  \n",
       "         [[0.00000000e+00, 4.86958414e-01, 8.58934641e-01, ...,\n",
       "           0.00000000e+00, 0.00000000e+00, 0.00000000e+00],\n",
       "          [0.00000000e+00, 0.00000000e+00, 1.37939036e-01, ...,\n",
       "           2.49858379e-01, 5.27370423e-02, 0.00000000e+00],\n",
       "          [0.00000000e+00, 0.00000000e+00, 5.92108846e-01, ...,\n",
       "           7.32549787e-01, 2.86229551e-01, 0.00000000e+00],\n",
       "          ...,\n",
       "          [0.00000000e+00, 0.00000000e+00, 1.01701766e-01, ...,\n",
       "           5.81837475e-01, 0.00000000e+00, 5.52060425e-01],\n",
       "          [0.00000000e+00, 0.00000000e+00, 1.45027936e-02, ...,\n",
       "           1.69691995e-01, 0.00000000e+00, 1.28432679e+00],\n",
       "          [0.00000000e+00, 0.00000000e+00, 4.77532893e-01, ...,\n",
       "           4.08304840e-01, 0.00000000e+00, 1.68404520e+00]],\n",
       "  \n",
       "         ...,\n",
       "  \n",
       "         [[3.30586076e-01, 8.81843567e-01, 0.00000000e+00, ...,\n",
       "           2.55128443e-01, 0.00000000e+00, 6.92764401e-01],\n",
       "          [1.85818934e+00, 9.29819345e-01, 0.00000000e+00, ...,\n",
       "           2.26307228e-01, 0.00000000e+00, 7.97596812e-01],\n",
       "          [8.55305314e-01, 0.00000000e+00, 0.00000000e+00, ...,\n",
       "           0.00000000e+00, 0.00000000e+00, 9.42164004e-01],\n",
       "          ...,\n",
       "          [9.91594315e-01, 3.04709506e+00, 0.00000000e+00, ...,\n",
       "           0.00000000e+00, 0.00000000e+00, 1.13217247e+00],\n",
       "          [2.30647713e-01, 1.74113894e+00, 2.50882238e-01, ...,\n",
       "           0.00000000e+00, 0.00000000e+00, 4.97882187e-01],\n",
       "          [0.00000000e+00, 8.52779865e-01, 8.34857821e-01, ...,\n",
       "           0.00000000e+00, 0.00000000e+00, 0.00000000e+00]],\n",
       "  \n",
       "         [[0.00000000e+00, 0.00000000e+00, 0.00000000e+00, ...,\n",
       "           1.42549551e+00, 0.00000000e+00, 2.30591744e-03],\n",
       "          [0.00000000e+00, 0.00000000e+00, 0.00000000e+00, ...,\n",
       "           1.34122717e+00, 0.00000000e+00, 1.36290297e-01],\n",
       "          [6.44326955e-02, 0.00000000e+00, 0.00000000e+00, ...,\n",
       "           8.10823917e-01, 0.00000000e+00, 4.20350075e-01],\n",
       "          ...,\n",
       "          [4.86044019e-01, 1.20800853e+00, 0.00000000e+00, ...,\n",
       "           6.47692025e-01, 0.00000000e+00, 9.72892940e-01],\n",
       "          [3.99901420e-01, 2.08735967e+00, 7.98261166e-01, ...,\n",
       "           1.92239750e-02, 0.00000000e+00, 5.94317913e-01],\n",
       "          [1.07784593e+00, 9.98904705e-01, 1.49753958e-01, ...,\n",
       "           0.00000000e+00, 0.00000000e+00, 1.93947665e-02]],\n",
       "  \n",
       "         [[0.00000000e+00, 6.72407508e-01, 0.00000000e+00, ...,\n",
       "           2.32528210e+00, 0.00000000e+00, 0.00000000e+00],\n",
       "          [0.00000000e+00, 1.26732707e-01, 0.00000000e+00, ...,\n",
       "           2.07459641e+00, 0.00000000e+00, 0.00000000e+00],\n",
       "          [1.80678558e+00, 0.00000000e+00, 0.00000000e+00, ...,\n",
       "           1.50069082e+00, 0.00000000e+00, 0.00000000e+00],\n",
       "          ...,\n",
       "          [2.35208130e+00, 1.13795030e+00, 0.00000000e+00, ...,\n",
       "           1.07842767e+00, 0.00000000e+00, 6.66697383e-01],\n",
       "          [7.59042025e-01, 1.20016181e+00, 2.96471179e-01, ...,\n",
       "           3.25065762e-01, 0.00000000e+00, 4.23665345e-01],\n",
       "          [1.71677113e+00, 0.00000000e+00, 1.01169765e-01, ...,\n",
       "           3.01551938e-01, 0.00000000e+00, 4.80869785e-02]]], dtype=float32)>),\n",
       " ('3c7ewj',\n",
       "  <tf.Tensor: shape=(8, 8, 2048), dtype=float32, numpy=\n",
       "  array([[[0.06225803, 0.56911767, 1.1935896 , ..., 1.8781513 ,\n",
       "           0.86090237, 1.9664224 ],\n",
       "          [0.29430124, 0.05539453, 1.3588077 , ..., 1.8264269 ,\n",
       "           0.6761005 , 1.4938346 ],\n",
       "          [0.33826515, 0.        , 0.48762205, ..., 1.8115464 ,\n",
       "           0.55214334, 0.8488889 ],\n",
       "          ...,\n",
       "          [0.609939  , 0.        , 0.55920374, ..., 0.43918815,\n",
       "           0.        , 0.        ],\n",
       "          [0.16455993, 0.        , 0.35232362, ..., 1.4286028 ,\n",
       "           0.39095983, 0.        ],\n",
       "          [0.62177444, 0.76485765, 1.0074453 , ..., 2.1934536 ,\n",
       "           0.3195439 , 0.        ]],\n",
       "  \n",
       "         [[1.1528041 , 0.7436173 , 2.7447515 , ..., 1.0415425 ,\n",
       "           1.4058045 , 1.6375878 ],\n",
       "          [1.1273699 , 0.        , 3.6410604 , ..., 1.1051494 ,\n",
       "           1.04952   , 1.0981035 ],\n",
       "          [0.        , 0.        , 2.1755488 , ..., 1.25071   ,\n",
       "           0.862676  , 0.29038003],\n",
       "          ...,\n",
       "          [0.        , 0.        , 1.5355588 , ..., 0.26771238,\n",
       "           0.        , 0.        ],\n",
       "          [0.        , 0.        , 0.03449439, ..., 0.9582235 ,\n",
       "           0.35201848, 0.        ],\n",
       "          [0.53948   , 0.        , 0.7485423 , ..., 1.4841038 ,\n",
       "           0.17087068, 0.        ]],\n",
       "  \n",
       "         [[0.13469863, 1.0130643 , 1.8586365 , ..., 0.24287413,\n",
       "           1.8101305 , 0.92468876],\n",
       "          [0.        , 0.        , 1.8028437 , ..., 0.41564578,\n",
       "           1.049141  , 0.39326274],\n",
       "          [0.        , 0.        , 1.6277542 , ..., 0.56586933,\n",
       "           0.5459396 , 0.        ],\n",
       "          ...,\n",
       "          [0.        , 0.        , 1.3215165 , ..., 0.        ,\n",
       "           0.        , 0.        ],\n",
       "          [0.        , 0.        , 1.029543  , ..., 0.45328033,\n",
       "           0.        , 0.        ],\n",
       "          [0.        , 0.        , 2.511214  , ..., 0.83504856,\n",
       "           0.        , 0.        ]],\n",
       "  \n",
       "         ...,\n",
       "  \n",
       "         [[0.        , 0.73148346, 1.2578608 , ..., 0.        ,\n",
       "           0.        , 0.        ],\n",
       "          [0.19381738, 0.        , 0.84282935, ..., 0.        ,\n",
       "           0.        , 0.        ],\n",
       "          [0.25927308, 0.18527678, 0.        , ..., 0.        ,\n",
       "           0.        , 0.        ],\n",
       "          ...,\n",
       "          [0.        , 0.        , 0.        , ..., 0.        ,\n",
       "           0.        , 0.        ],\n",
       "          [1.5688907 , 0.26783964, 0.10181522, ..., 0.        ,\n",
       "           0.        , 0.        ],\n",
       "          [0.46597204, 1.7294085 , 1.9655019 , ..., 0.20016149,\n",
       "           0.        , 0.        ]],\n",
       "  \n",
       "         [[0.07726836, 0.19530049, 0.        , ..., 0.        ,\n",
       "           0.        , 0.02822803],\n",
       "          [0.65841615, 0.416513  , 0.        , ..., 0.        ,\n",
       "           0.        , 0.2961619 ],\n",
       "          [0.97210896, 0.10913844, 0.        , ..., 0.        ,\n",
       "           0.        , 0.6881767 ],\n",
       "          ...,\n",
       "          [0.        , 0.        , 0.        , ..., 0.        ,\n",
       "           0.        , 0.        ],\n",
       "          [1.0036303 , 0.24291691, 0.        , ..., 0.        ,\n",
       "           0.        , 0.04121136],\n",
       "          [0.4901308 , 0.        , 0.        , ..., 0.        ,\n",
       "           0.        , 0.18066795]],\n",
       "  \n",
       "         [[0.        , 0.        , 0.        , ..., 0.        ,\n",
       "           0.        , 0.670027  ],\n",
       "          [0.06027205, 0.        , 0.        , ..., 0.        ,\n",
       "           0.        , 0.7771924 ],\n",
       "          [0.        , 0.        , 0.        , ..., 0.        ,\n",
       "           0.        , 1.0959184 ],\n",
       "          ...,\n",
       "          [0.        , 0.30020082, 0.        , ..., 0.        ,\n",
       "           0.        , 0.38625345],\n",
       "          [0.        , 0.        , 0.        , ..., 0.        ,\n",
       "           0.        , 0.50311095],\n",
       "          [0.        , 0.        , 0.        , ..., 0.        ,\n",
       "           0.        , 0.48919678]]], dtype=float32)>),\n",
       " ('3c7rnc',\n",
       "  <tf.Tensor: shape=(8, 8, 2048), dtype=float32, numpy=\n",
       "  array([[[0.        , 0.        , 0.        , ..., 0.        ,\n",
       "           0.74738556, 0.        ],\n",
       "          [0.        , 0.        , 0.        , ..., 0.        ,\n",
       "           0.9235499 , 0.        ],\n",
       "          [0.        , 0.28259093, 0.        , ..., 0.        ,\n",
       "           0.64410555, 0.        ],\n",
       "          ...,\n",
       "          [0.        , 0.        , 0.        , ..., 0.        ,\n",
       "           0.6926349 , 0.        ],\n",
       "          [0.        , 0.        , 0.1075632 , ..., 0.        ,\n",
       "           0.25571343, 0.        ],\n",
       "          [0.        , 0.        , 0.15346989, ..., 0.        ,\n",
       "           0.03546391, 0.        ]],\n",
       "  \n",
       "         [[0.        , 0.        , 0.14564934, ..., 0.        ,\n",
       "           1.1024604 , 0.        ],\n",
       "          [0.        , 0.        , 0.        , ..., 0.        ,\n",
       "           1.1435288 , 0.        ],\n",
       "          [0.22408327, 0.5204948 , 0.        , ..., 0.        ,\n",
       "           0.9235404 , 0.        ],\n",
       "          ...,\n",
       "          [0.        , 0.        , 0.        , ..., 0.        ,\n",
       "           0.7655042 , 0.        ],\n",
       "          [0.        , 0.        , 0.5194844 , ..., 0.        ,\n",
       "           0.11648393, 0.        ],\n",
       "          [0.        , 0.        , 0.526456  , ..., 0.        ,\n",
       "           0.        , 0.        ]],\n",
       "  \n",
       "         [[0.39096949, 0.        , 0.        , ..., 0.        ,\n",
       "           0.7869536 , 0.        ],\n",
       "          [0.        , 0.        , 0.        , ..., 0.        ,\n",
       "           1.1059499 , 0.        ],\n",
       "          [0.05407567, 0.        , 0.        , ..., 0.        ,\n",
       "           1.4492638 , 0.        ],\n",
       "          ...,\n",
       "          [0.01021226, 0.        , 0.        , ..., 0.        ,\n",
       "           1.2495891 , 0.        ],\n",
       "          [0.        , 0.        , 0.        , ..., 0.        ,\n",
       "           0.38453376, 0.        ],\n",
       "          [0.71223176, 0.        , 0.40456715, ..., 0.        ,\n",
       "           0.        , 0.        ]],\n",
       "  \n",
       "         ...,\n",
       "  \n",
       "         [[0.        , 0.75365615, 5.2630486 , ..., 7.5694666 ,\n",
       "           4.1307626 , 3.8796413 ],\n",
       "          [0.        , 3.9891176 , 6.1420817 , ..., 6.4892983 ,\n",
       "           3.7323885 , 3.2819316 ],\n",
       "          [0.        , 7.14373   , 1.8482534 , ..., 4.3245163 ,\n",
       "           2.5768254 , 2.1602454 ],\n",
       "          ...,\n",
       "          [0.        , 0.        , 0.        , ..., 0.6741237 ,\n",
       "           0.        , 0.        ],\n",
       "          [0.982553  , 0.        , 0.        , ..., 0.91349715,\n",
       "           0.        , 0.        ],\n",
       "          [0.        , 0.31095836, 0.        , ..., 0.6669736 ,\n",
       "           0.        , 0.44299865]],\n",
       "  \n",
       "         [[0.        , 1.381931  , 6.27124   , ..., 8.827909  ,\n",
       "           3.4026427 , 4.4923906 ],\n",
       "          [0.        , 3.548625  , 8.868156  , ..., 7.5200243 ,\n",
       "           3.101063  , 3.5933108 ],\n",
       "          [0.        , 4.807683  , 3.1701705 , ..., 4.861842  ,\n",
       "           2.1731982 , 2.0766993 ],\n",
       "          ...,\n",
       "          [0.        , 0.5419067 , 0.        , ..., 0.84743005,\n",
       "           0.        , 0.        ],\n",
       "          [0.        , 0.        , 0.        , ..., 0.67850447,\n",
       "           0.        , 0.        ],\n",
       "          [0.        , 1.046299  , 0.        , ..., 0.3179617 ,\n",
       "           0.        , 0.33759567]],\n",
       "  \n",
       "         [[0.        , 2.1151645 , 2.126241  , ..., 7.0603147 ,\n",
       "           1.1469737 , 4.902426  ],\n",
       "          [0.2767243 , 0.        , 1.9338485 , ..., 6.125507  ,\n",
       "           1.2247225 , 3.7358043 ],\n",
       "          [0.12562189, 0.46904406, 0.        , ..., 4.2018104 ,\n",
       "           1.1261629 , 2.045689  ],\n",
       "          ...,\n",
       "          [0.        , 0.11447652, 0.        , ..., 0.8419324 ,\n",
       "           0.        , 0.        ],\n",
       "          [0.        , 0.        , 0.        , ..., 0.28935394,\n",
       "           0.        , 0.        ],\n",
       "          [0.        , 0.        , 0.        , ..., 0.        ,\n",
       "           0.        , 0.33136612]]], dtype=float32)>)]"
      ]
     },
     "execution_count": 38,
     "metadata": {},
     "output_type": "execute_result"
    }
   ],
   "source": [
    "list(faces_encodings.items())[:5]"
   ]
  },
  {
   "cell_type": "code",
   "execution_count": 4,
   "metadata": {},
   "outputs": [],
   "source": [
    "# training tokenizer\n",
    "roasts_total = []\n",
    "with open('reddit_roasts.txt', 'r', encoding='utf-8') as f:\n",
    "    text = f.read()\n",
    "    for line in text.split('NEWLINE!!!'):\n",
    "        roasts = line.split('~')[1:]\n",
    "        [roasts_total.append(r + ' endofseq') for r in roasts]\n",
    "\n",
    "tokenizer = tf.keras.preprocessing.text.Tokenizer(num_words=4000)\n",
    "tokenizer.fit_on_texts(roasts_total)"
   ]
  },
  {
   "cell_type": "code",
   "execution_count": 5,
   "metadata": {},
   "outputs": [
    {
     "data": {
      "text/plain": [
       "['', 'endofseq', 'you', 'the']"
      ]
     },
     "execution_count": 5,
     "metadata": {},
     "output_type": "execute_result"
    }
   ],
   "source": [
    "tokenizer.sequences_to_texts([[0],[1],[2],[3]])"
   ]
  },
  {
   "cell_type": "code",
   "execution_count": 5,
   "metadata": {},
   "outputs": [],
   "source": []
  },
  {
   "cell_type": "code",
   "execution_count": 6,
   "metadata": {},
   "outputs": [],
   "source": [
    "tensor = tokenizer.texts_to_sequences(roasts_total)\n",
    "tensor = tf.keras.preprocessing.sequence.pad_sequences(tensor, padding='post')"
   ]
  },
  {
   "cell_type": "code",
   "execution_count": 29,
   "metadata": {},
   "outputs": [],
   "source": []
  },
  {
   "cell_type": "code",
   "execution_count": 7,
   "metadata": {},
   "outputs": [],
   "source": [
    "augmentor = tf.keras.preprocessing.image.ImageDataGenerator(rescale=1/255., rotation_range=20,\n",
    "                                                           horizontal_flip=True)"
   ]
  },
  {
   "cell_type": "code",
   "execution_count": 9,
   "metadata": {},
   "outputs": [],
   "source": [
    "haar_cascade_face = cv2.CascadeClassifier('data/haarcascade_frontalface_default.xml')\n",
    "def detect_faces(img, extension=(0,0), resize=(256,256), draw_rects=True):\n",
    "    img_gray = cv2.cvtColor(img.copy(), cv2.COLOR_BGR2GRAY) # cvt to grayscale for faster results\n",
    "    \n",
    "    if type(extension)==float or type(extension)==int:\n",
    "        extension = (extension, extension)\n",
    "    if extension[0]<1 or extension[1]<1:\n",
    "        extension = (int(extension[0]*len(img[0])), int(extension[1]*len(img))) # if <1, treat as a perecentage\n",
    "    \n",
    "    faces_rects = haar_cascade_face.detectMultiScale(img_gray, scaleFactor = 1.2, minNeighbors = 5)\n",
    "    if len(faces_rects) == 0:\n",
    "        return None, None\n",
    "    if draw_rects: # should we draw the rectangles onto the original image?\n",
    "        for (x,y,w,h) in faces_rects:\n",
    "            left_x = int(max(x-extension[0]/2,0))\n",
    "            right_x = int(min(x+(extension[0]/2)+w,len(img[0])))\n",
    "            top_y = int(max(y-extension[1]/2,0))\n",
    "            bottom_y = int(min(y+(extension[1]/2)+h, len(img)))\n",
    "            cv2.rectangle(img_gray, (left_x,bottom_y), (right_x,top_y), (0, 255, 0), 10)\n",
    "    face_imgs = []\n",
    "    for (x,y,w,h) in faces_rects:\n",
    "        left_x = int(max(x-extension[0]/2,0))\n",
    "        right_x = int(min(x+(extension[0]/2)+w,len(img[0])))\n",
    "        bottom_y = int(max(y-extension[1]/2,0))\n",
    "        top_y = int(min(y+(extension[1]/2)+h, len(img)))\n",
    "        img_slice = img[bottom_y:top_y, left_x:right_x]\n",
    "        face_imgs.append(to_rgb(cv2.resize(img_slice,resize)))\n",
    "    return face_imgs, img_gray\n",
    "\n",
    "def to_rgb(img):\n",
    "    return cv2.cvtColor(img, cv2.COLOR_BGR2RGB)\n",
    "\n",
    "def display_faces(imgs):\n",
    "    if imgs is not None:\n",
    "        for c,face in enumerate(imgs):\n",
    "            plt.subplot(1,len(imgs),c+1)\n",
    "            plt.axis('off')\n",
    "            plt.imshow(face)\n",
    "    else:\n",
    "        print('Face not found!')\n",
    "        \n",
    "def lookup_img(_id, filename=None):\n",
    "    if filename is None:\n",
    "        filename = './faces/{}.png'.format(_id)\n",
    "    img = cv2.cvtColor(cv2.imread(filename), cv2.COLOR_BGR2RGB)\n",
    "    imgs, _ = detect_faces(img, extension=.1, draw_rects=False)\n",
    "    if imgs!=[]:\n",
    "        return imgs\n",
    "    else:\n",
    "        return None\n",
    "\n",
    "\n",
    "def augment_img(img):\n",
    "    return [img, np.fliplr(img)]\n",
    "\n",
    "def generator():\n",
    "    with open('reddit_roasts.txt','r', encoding='utf-8') as f:\n",
    "        text = f.read()\n",
    "        for line in text.split('NEWLINE!!!'):\n",
    "            #print(line)\n",
    "            elements = line.split('~')\n",
    "            _id = elements[0]\n",
    "            for roast in elements[1:]:\n",
    "                imgs = lookup_img(_id)\n",
    "                if imgs == None:\n",
    "                    continue\n",
    "                imgs = np.array(imgs)\n",
    "                #print(roast + ' endofseq')\n",
    "                seq = tokenizer.texts_to_sequences([roast + ' endofseq'])\n",
    "                seq = tf.keras.preprocessing.sequence.pad_sequences(seq, padding='pre', maxlen=7)\n",
    "                for img in imgs:\n",
    "                    for aug in augment_img(img):\n",
    "                        yield {'input_1': aug/255.,\n",
    "                           'input_2': seq[0]}\n",
    "\n"
   ]
  },
  {
   "cell_type": "code",
   "execution_count": 9,
   "metadata": {},
   "outputs": [
    {
     "data": {
      "text/plain": [
       "<matplotlib.image.AxesImage at 0x286dce87190>"
      ]
     },
     "execution_count": 9,
     "metadata": {},
     "output_type": "execute_result"
    },
    {
     "data": {
      "image/png": "[encoded data removed]",
      "text/plain": [
       "<Figure size 432x288 with 1 Axes>"
      ]
     },
     "metadata": {
      "needs_background": "light"
     },
     "output_type": "display_data"
    }
   ],
   "source": [
    "imgs = lookup_img('3by2xz')\n",
    "img = imgs[0]\n",
    "plt.imshow(to_rgb(img))"
   ]
  },
  {
   "cell_type": "code",
   "execution_count": 9,
   "metadata": {},
   "outputs": [
    {
     "data": {
      "text/plain": [
       "<tf.Tensor: shape=(1, 4, 4000), dtype=float32, numpy=\n",
       "array([[[ 0.00495812, -0.00978796, -0.00742598, ...,  0.00260977,\n",
       "          0.02185226,  0.01347353],\n",
       "        [ 0.00577816, -0.00783534, -0.00857792, ..., -0.00172348,\n",
       "          0.02127137,  0.01151799],\n",
       "        [ 0.00497851, -0.00374222, -0.00945744, ..., -0.00079176,\n",
       "          0.01439389,  0.00726691],\n",
       "        [ 0.00456478, -0.00158427, -0.00582796, ..., -0.00228932,\n",
       "          0.00925785,  0.00497183]]], dtype=float32)>"
      ]
     },
     "execution_count": 9,
     "metadata": {},
     "output_type": "execute_result"
    }
   ],
   "source": [
    "input_dict = {}\n",
    "input_dict['input_1'] = img.reshape((1,img.shape[0],img.shape[1],3)).astype(np.float32)\n",
    "input_dict['input_2'] = tokenizer.texts_to_sequences([u'You look like '])\n",
    "model(input_dict)"
   ]
  },
  {
   "cell_type": "code",
   "execution_count": 22,
   "metadata": {},
   "outputs": [
    {
     "name": "stdout",
     "output_type": "stream",
     "text": [
      "[   0    4  370  331 1701 1702    1]\n",
      "input_sequence (as text)\n",
      "['', 'a', 'future', 'cat', 'litter', 'spokeswoman']\n",
      "output_sequence (as text)\n",
      "['a', 'future', 'cat', 'litter', 'spokeswoman', 'endofseq']\n"
     ]
    }
   ],
   "source": [
    "gen = generator()\n",
    "for val in [next(gen) for _ in range(1)]:\n",
    "    print(val['input_2'])\n",
    "    batch_of_one = split_input_target(val)\n",
    "    x,y = batch_of_one[0], batch_of_one[1]\n",
    "    print('input_sequence (as text)')\n",
    "    texts = x['input_2']\n",
    "    texts = [[val] for val in texts]\n",
    "    seq = tokenizer.sequences_to_texts(texts)\n",
    "    print(seq)\n",
    "    print('output_sequence (as text)')\n",
    "    y = [[val] for val in y]\n",
    "    print(tokenizer.sequences_to_texts(y))"
   ]
  },
  {
   "cell_type": "code",
   "execution_count": 10,
   "metadata": {},
   "outputs": [],
   "source": [
    "dataset = tf.data.Dataset.from_generator(generator, output_types={'input_1':tf.float32,'input_2':tf.int32},\n",
    "                                        output_shapes={'input_1':tf.TensorShape([None,None,3]),\n",
    "                                                      'input_2':tf.TensorShape([None])})"
   ]
  },
  {
   "cell_type": "code",
   "execution_count": 33,
   "metadata": {},
   "outputs": [],
   "source": [
    "# for text only\n",
    "dataset = tf.data.Dataset.from_tensor_slices(tensor)\n",
    "#dataset = dataset.batch(50, drop_remainder=True)"
   ]
  },
  {
   "cell_type": "code",
   "execution_count": 34,
   "metadata": {},
   "outputs": [
    {
     "data": {
      "text/plain": [
       "<TensorSliceDataset shapes: (50,), types: tf.int32>"
      ]
     },
     "execution_count": 34,
     "metadata": {},
     "output_type": "execute_result"
    }
   ],
   "source": [
    "dataset"
   ]
  },
  {
   "cell_type": "code",
   "execution_count": 35,
   "metadata": {},
   "outputs": [
    {
     "data": {
      "text/plain": [
       "[[1]]"
      ]
     },
     "execution_count": 35,
     "metadata": {},
     "output_type": "execute_result"
    }
   ],
   "source": [
    "tokenizer.texts_to_sequences(['endofseq'])"
   ]
  },
  {
   "cell_type": "code",
   "execution_count": 36,
   "metadata": {},
   "outputs": [],
   "source": [
    "#@tf.function\n",
    "SEQ_LENGTH = 10\n",
    "def restructure_seq(seq):\n",
    "    input_text = [0] + seq[:-1]\n",
    "    output_text = seq[1:]\n",
    "    if len(seq)>SEQ_LENGTH:\n",
    "        input_text = input_text[:SEQ_LENGTH]\n",
    "        output_text = output_text[:SEQ_LENGTH]\n",
    "    else:\n",
    "        additional = SEQ_LENGTH - len(seq)\n",
    "        #seq = seq + \n",
    "    index = seq.index(0)\n",
    "    #input_seq = \n",
    "\n",
    "def split_input_target(chunk):\n",
    "    input_text = chunk['input_2'][:-1]\n",
    "    output_text = chunk['input_2'][1:]\n",
    "    #print(len(input_text), len(output_text))\n",
    "    #input_text = tf.pad(input_text, padding='post', maxlen=100)\n",
    "    #output_text = tf.keras.preprocessing.sequence.pad_sequences([output_text], padding='post', maxlen=100)\n",
    "    #tf.print(input_text, output_text)\n",
    "    return {'input_1': chunk['input_1'], 'input_2': input_text}, output_text\n",
    "\n",
    "def split_input_target_text(chunk):\n",
    "    input_text = chunk[:-1]\n",
    "    output_text = chunk[1:]\n",
    "    return input_text, output_text\n",
    "dataset = dataset.map(split_input_target_text)"
   ]
  },
  {
   "cell_type": "code",
   "execution_count": 14,
   "metadata": {},
   "outputs": [
    {
     "ename": "ValueError",
     "evalue": "too many values to unpack (expected 2)",
     "output_type": "error",
     "traceback": [
      "\u001b[1;31m---------------------------------------------------------------------------\u001b[0m",
      "\u001b[1;31mValueError\u001b[0m                                Traceback (most recent call last)",
      "\u001b[1;32m<ipython-input-14-e6075d506b6c>\u001b[0m in \u001b[0;36m<module>\u001b[1;34m\u001b[0m\n\u001b[1;32m----> 1\u001b[1;33m \u001b[1;32mfor\u001b[0m \u001b[1;33m(\u001b[0m\u001b[0minput_img\u001b[0m\u001b[1;33m,\u001b[0m \u001b[0minput_text\u001b[0m\u001b[1;33m)\u001b[0m\u001b[1;33m,\u001b[0m \u001b[0moutput_text\u001b[0m \u001b[1;32min\u001b[0m \u001b[0mdataset\u001b[0m\u001b[1;33m.\u001b[0m\u001b[0mtake\u001b[0m\u001b[1;33m(\u001b[0m\u001b[1;36m1\u001b[0m\u001b[1;33m)\u001b[0m\u001b[1;33m:\u001b[0m\u001b[1;33m\u001b[0m\u001b[1;33m\u001b[0m\u001b[0m\n\u001b[0m\u001b[0;32m      2\u001b[0m     \u001b[0mprint\u001b[0m\u001b[1;33m(\u001b[0m\u001b[0mtype\u001b[0m\u001b[1;33m(\u001b[0m\u001b[0minput_img\u001b[0m\u001b[1;33m)\u001b[0m\u001b[1;33m)\u001b[0m\u001b[1;33m\u001b[0m\u001b[1;33m\u001b[0m\u001b[0m\n\u001b[0;32m      3\u001b[0m     \u001b[0mprint\u001b[0m\u001b[1;33m(\u001b[0m\u001b[0minput_text\u001b[0m\u001b[1;33m)\u001b[0m\u001b[1;33m\u001b[0m\u001b[1;33m\u001b[0m\u001b[0m\n\u001b[0;32m      4\u001b[0m     \u001b[0mprint\u001b[0m\u001b[1;33m(\u001b[0m\u001b[0moutput_text\u001b[0m\u001b[1;33m)\u001b[0m\u001b[1;33m\u001b[0m\u001b[1;33m\u001b[0m\u001b[0m\n",
      "\u001b[1;31mValueError\u001b[0m: too many values to unpack (expected 2)"
     ]
    }
   ],
   "source": [
    "for (input_img, input_text), output_text in dataset.take(1):\n",
    "    print(type(input_img))\n",
    "    print(input_text)\n",
    "    print(output_text)"
   ]
  },
  {
   "cell_type": "code",
   "execution_count": 37,
   "metadata": {},
   "outputs": [
    {
     "data": {
      "text/plain": [
       "<MapDataset shapes: ((49,), (49,)), types: (tf.int32, tf.int32)>"
      ]
     },
     "execution_count": 37,
     "metadata": {},
     "output_type": "execute_result"
    }
   ],
   "source": [
    "dataset"
   ]
  },
  {
   "cell_type": "code",
   "execution_count": 38,
   "metadata": {},
   "outputs": [
    {
     "data": {
      "text/plain": [
       "<BatchDataset shapes: ((None, 49), (None, 49)), types: (tf.int32, tf.int32)>"
      ]
     },
     "execution_count": 38,
     "metadata": {},
     "output_type": "execute_result"
    }
   ],
   "source": [
    "BATCH_SIZE = 128\n",
    "BUFFER_SIZE = 200\n",
    "dataset = dataset.shuffle(BUFFER_SIZE).batch(BATCH_SIZE)\n",
    "dataset"
   ]
  },
  {
   "cell_type": "code",
   "execution_count": 39,
   "metadata": {},
   "outputs": [
    {
     "name": "stdout",
     "output_type": "stream",
     "text": [
      "WARNING:tensorflow:AutoGraph could not transform <function <lambda> at 0x0000026698835700> and will run it as-is.\n",
      "Please report this to the TensorFlow team. When filing the bug, set the verbosity to 10 (on Linux, `export AUTOGRAPH_VERBOSITY=10`) and attach the full output.\n",
      "Cause: Unable to identify source code of lambda function <function <lambda> at 0x0000026698835700>. It was defined on this line: test_dataset = dataset.enumerate().filter(lambda x,y: x % 5 == 0).map(lambda x,y: y)\n",
      ", which must contain a single lambda with matching signature. To avoid ambiguity, define each lambda in a separate expression.\n",
      "To silence this warning, decorate the function with @tf.autograph.experimental.do_not_convert\n",
      "WARNING: AutoGraph could not transform <function <lambda> at 0x0000026698835700> and will run it as-is.\n",
      "Please report this to the TensorFlow team. When filing the bug, set the verbosity to 10 (on Linux, `export AUTOGRAPH_VERBOSITY=10`) and attach the full output.\n",
      "Cause: Unable to identify source code of lambda function <function <lambda> at 0x0000026698835700>. It was defined on this line: test_dataset = dataset.enumerate().filter(lambda x,y: x % 5 == 0).map(lambda x,y: y)\n",
      ", which must contain a single lambda with matching signature. To avoid ambiguity, define each lambda in a separate expression.\n",
      "To silence this warning, decorate the function with @tf.autograph.experimental.do_not_convert\n",
      "WARNING:tensorflow:AutoGraph could not transform <function <lambda> at 0x00000266D7812940> and will run it as-is.\n",
      "Please report this to the TensorFlow team. When filing the bug, set the verbosity to 10 (on Linux, `export AUTOGRAPH_VERBOSITY=10`) and attach the full output.\n",
      "Cause: Unable to identify source code of lambda function <function <lambda> at 0x00000266D7812940>. It was defined on this line: test_dataset = dataset.enumerate().filter(lambda x,y: x % 5 == 0).map(lambda x,y: y)\n",
      ", which must contain a single lambda with matching signature. To avoid ambiguity, define each lambda in a separate expression.\n",
      "To silence this warning, decorate the function with @tf.autograph.experimental.do_not_convert\n",
      "WARNING: AutoGraph could not transform <function <lambda> at 0x00000266D7812940> and will run it as-is.\n",
      "Please report this to the TensorFlow team. When filing the bug, set the verbosity to 10 (on Linux, `export AUTOGRAPH_VERBOSITY=10`) and attach the full output.\n",
      "Cause: Unable to identify source code of lambda function <function <lambda> at 0x00000266D7812940>. It was defined on this line: test_dataset = dataset.enumerate().filter(lambda x,y: x % 5 == 0).map(lambda x,y: y)\n",
      ", which must contain a single lambda with matching signature. To avoid ambiguity, define each lambda in a separate expression.\n",
      "To silence this warning, decorate the function with @tf.autograph.experimental.do_not_convert\n",
      "WARNING:tensorflow:AutoGraph could not transform <function <lambda> at 0x00000266988358B0> and will run it as-is.\n",
      "Please report this to the TensorFlow team. When filing the bug, set the verbosity to 10 (on Linux, `export AUTOGRAPH_VERBOSITY=10`) and attach the full output.\n",
      "Cause: Unable to identify source code of lambda function <function <lambda> at 0x00000266988358B0>. It was defined on this line: train_dataset = dataset.enumerate().filter(lambda x,y:x % 5 != 0).map(lambda x,y: y)\n",
      ", which must contain a single lambda with matching signature. To avoid ambiguity, define each lambda in a separate expression.\n",
      "To silence this warning, decorate the function with @tf.autograph.experimental.do_not_convert\n",
      "WARNING: AutoGraph could not transform <function <lambda> at 0x00000266988358B0> and will run it as-is.\n",
      "Please report this to the TensorFlow team. When filing the bug, set the verbosity to 10 (on Linux, `export AUTOGRAPH_VERBOSITY=10`) and attach the full output.\n",
      "Cause: Unable to identify source code of lambda function <function <lambda> at 0x00000266988358B0>. It was defined on this line: train_dataset = dataset.enumerate().filter(lambda x,y:x % 5 != 0).map(lambda x,y: y)\n",
      ", which must contain a single lambda with matching signature. To avoid ambiguity, define each lambda in a separate expression.\n",
      "To silence this warning, decorate the function with @tf.autograph.experimental.do_not_convert\n",
      "WARNING:tensorflow:AutoGraph could not transform <function <lambda> at 0x0000026698835550> and will run it as-is.\n",
      "Please report this to the TensorFlow team. When filing the bug, set the verbosity to 10 (on Linux, `export AUTOGRAPH_VERBOSITY=10`) and attach the full output.\n",
      "Cause: Unable to identify source code of lambda function <function <lambda> at 0x0000026698835550>. It was defined on this line: train_dataset = dataset.enumerate().filter(lambda x,y:x % 5 != 0).map(lambda x,y: y)\n",
      ", which must contain a single lambda with matching signature. To avoid ambiguity, define each lambda in a separate expression.\n",
      "To silence this warning, decorate the function with @tf.autograph.experimental.do_not_convert\n",
      "WARNING: AutoGraph could not transform <function <lambda> at 0x0000026698835550> and will run it as-is.\n",
      "Please report this to the TensorFlow team. When filing the bug, set the verbosity to 10 (on Linux, `export AUTOGRAPH_VERBOSITY=10`) and attach the full output.\n",
      "Cause: Unable to identify source code of lambda function <function <lambda> at 0x0000026698835550>. It was defined on this line: train_dataset = dataset.enumerate().filter(lambda x,y:x % 5 != 0).map(lambda x,y: y)\n",
      ", which must contain a single lambda with matching signature. To avoid ambiguity, define each lambda in a separate expression.\n",
      "To silence this warning, decorate the function with @tf.autograph.experimental.do_not_convert\n"
     ]
    }
   ],
   "source": [
    "test_dataset = dataset.enumerate().filter(lambda x,y: x % 5 == 0).map(lambda x,y: y)\n",
    "train_dataset = dataset.enumerate().filter(lambda x,y:x % 5 != 0).map(lambda x,y: y)"
   ]
  },
  {
   "cell_type": "code",
   "execution_count": 40,
   "metadata": {},
   "outputs": [],
   "source": [
    "EPOCHS = 10\n",
    "\n",
    "def logits_loss(labels, logits):\n",
    "    return tf.keras.losses.sparse_categorical_crossentropy(labels, logits, from_logits=True)\n",
    "\n",
    "model.compile(optimizer='adam',loss=logits_loss)"
   ]
  },
  {
   "cell_type": "code",
   "execution_count": 41,
   "metadata": {},
   "outputs": [
    {
     "name": "stdout",
     "output_type": "stream",
     "text": [
      "Model: \"sequential\"\n",
      "_________________________________________________________________\n",
      "Layer (type)                 Output Shape              Param #   \n",
      "=================================================================\n",
      "embedding (Embedding)        (128, None, 256)          1024000   \n",
      "_________________________________________________________________\n",
      "gru (GRU)                    (128, None, 1024)         3938304   \n",
      "_________________________________________________________________\n",
      "gru_1 (GRU)                  (128, None, 1024)         6297600   \n",
      "_________________________________________________________________\n",
      "dense (Dense)                (128, None, 4000)         4100000   \n",
      "=================================================================\n",
      "Total params: 15,359,904\n",
      "Trainable params: 15,359,904\n",
      "Non-trainable params: 0\n",
      "_________________________________________________________________\n"
     ]
    }
   ],
   "source": [
    "model.summary()"
   ]
  },
  {
   "cell_type": "code",
   "execution_count": 42,
   "metadata": {},
   "outputs": [
    {
     "data": {
      "text/plain": [
       "<MapDataset shapes: ((None, 49), (None, 49)), types: (tf.int32, tf.int32)>"
      ]
     },
     "execution_count": 42,
     "metadata": {},
     "output_type": "execute_result"
    }
   ],
   "source": [
    "train_dataset"
   ]
  },
  {
   "cell_type": "code",
   "execution_count": 45,
   "metadata": {},
   "outputs": [
    {
     "name": "stdout",
     "output_type": "stream",
     "text": [
      "[[  0   0   0 ...   0   0   0]\n",
      " [  0   0   0 ...   0   0   0]\n",
      " [  5 283 375 ...   0   0   0]\n",
      " ...\n",
      " [  0   0   0 ...   0   0   0]\n",
      " [  0   0   0 ...   0   0   0]\n",
      " [  0   0   0 ...   0   0   0]]\n",
      "[[  0   0   0 ...   0   0   0]\n",
      " [  0   0   0 ...   0   0   0]\n",
      " [283 375  45 ...   0   0   0]\n",
      " ...\n",
      " [  0   0   0 ...   0   0   0]\n",
      " [  0   0   0 ...   0   0   0]\n",
      " [  0   0   0 ...   0   0   0]]\n"
     ]
    }
   ],
   "source": [
    "for input_text, output_text in train_dataset.take(1):\n",
    "    print(input_text.numpy())\n",
    "    print(output_text.numpy())"
   ]
  },
  {
   "cell_type": "code",
   "execution_count": 46,
   "metadata": {},
   "outputs": [],
   "source": [
    "checkpoint_dir = './training_checkpoints'\n",
    "checkpoint_prefix = os.path.join(checkpoint_dir, 'ckpt_{epoch}')\n",
    "checkpoint_callback = tf.keras.callbacks.ModelCheckpoint(checkpoint_prefix, save_weights_only=True)"
   ]
  },
  {
   "cell_type": "code",
   "execution_count": 47,
   "metadata": {},
   "outputs": [],
   "source": [
    "early_stopping = tf.keras.callbacks.EarlyStopping(patience=1, restore_best_weights=True)"
   ]
  },
  {
   "cell_type": "code",
   "execution_count": 49,
   "metadata": {},
   "outputs": [
    {
     "name": "stdout",
     "output_type": "stream",
     "text": [
      "Epoch 1/10\n",
      "     40/Unknown - 277s 7s/step - loss: 0.4519"
     ]
    },
    {
     "ename": "InvalidArgumentError",
     "evalue": " assertion failed: [Condition x == y did not hold element-wise:] [x (logits_loss/SparseSoftmaxCrossEntropyWithLogits/Shape_1:0) = ] [36 49] [y (logits_loss/SparseSoftmaxCrossEntropyWithLogits/strided_slice:0) = ] [128 49]\n\t [[node logits_loss/SparseSoftmaxCrossEntropyWithLogits/assert_equal_1/Assert/Assert (defined at <ipython-input-40-e8b1843a5f63>:4) ]] [Op:__inference_test_function_11074]\n\nFunction call stack:\ntest_function\n",
     "output_type": "error",
     "traceback": [
      "\u001b[1;31m---------------------------------------------------------------------------\u001b[0m",
      "\u001b[1;31mInvalidArgumentError\u001b[0m                      Traceback (most recent call last)",
      "\u001b[1;32m<ipython-input-49-4bf803041e69>\u001b[0m in \u001b[0;36m<module>\u001b[1;34m\u001b[0m\n\u001b[1;32m----> 1\u001b[1;33m history = model.fit(train_dataset, epochs=EPOCHS, validation_data=test_dataset, initial_epoch=0,\n\u001b[0m\u001b[0;32m      2\u001b[0m          callbacks=[checkpoint_callback,early_stopping])\n",
      "\u001b[1;32m~\\anaconda3\\envs\\tensorflow\\lib\\site-packages\\tensorflow\\python\\keras\\engine\\training.py\u001b[0m in \u001b[0;36m_method_wrapper\u001b[1;34m(self, *args, **kwargs)\u001b[0m\n\u001b[0;32m     64\u001b[0m   \u001b[1;32mdef\u001b[0m \u001b[0m_method_wrapper\u001b[0m\u001b[1;33m(\u001b[0m\u001b[0mself\u001b[0m\u001b[1;33m,\u001b[0m \u001b[1;33m*\u001b[0m\u001b[0margs\u001b[0m\u001b[1;33m,\u001b[0m \u001b[1;33m**\u001b[0m\u001b[0mkwargs\u001b[0m\u001b[1;33m)\u001b[0m\u001b[1;33m:\u001b[0m\u001b[1;33m\u001b[0m\u001b[1;33m\u001b[0m\u001b[0m\n\u001b[0;32m     65\u001b[0m     \u001b[1;32mif\u001b[0m \u001b[1;32mnot\u001b[0m \u001b[0mself\u001b[0m\u001b[1;33m.\u001b[0m\u001b[0m_in_multi_worker_mode\u001b[0m\u001b[1;33m(\u001b[0m\u001b[1;33m)\u001b[0m\u001b[1;33m:\u001b[0m  \u001b[1;31m# pylint: disable=protected-access\u001b[0m\u001b[1;33m\u001b[0m\u001b[1;33m\u001b[0m\u001b[0m\n\u001b[1;32m---> 66\u001b[1;33m       \u001b[1;32mreturn\u001b[0m \u001b[0mmethod\u001b[0m\u001b[1;33m(\u001b[0m\u001b[0mself\u001b[0m\u001b[1;33m,\u001b[0m \u001b[1;33m*\u001b[0m\u001b[0margs\u001b[0m\u001b[1;33m,\u001b[0m \u001b[1;33m**\u001b[0m\u001b[0mkwargs\u001b[0m\u001b[1;33m)\u001b[0m\u001b[1;33m\u001b[0m\u001b[1;33m\u001b[0m\u001b[0m\n\u001b[0m\u001b[0;32m     67\u001b[0m \u001b[1;33m\u001b[0m\u001b[0m\n\u001b[0;32m     68\u001b[0m     \u001b[1;31m# Running inside `run_distribute_coordinator` already.\u001b[0m\u001b[1;33m\u001b[0m\u001b[1;33m\u001b[0m\u001b[1;33m\u001b[0m\u001b[0m\n",
      "\u001b[1;32m~\\anaconda3\\envs\\tensorflow\\lib\\site-packages\\tensorflow\\python\\keras\\engine\\training.py\u001b[0m in \u001b[0;36mfit\u001b[1;34m(self, x, y, batch_size, epochs, verbose, callbacks, validation_split, validation_data, shuffle, class_weight, sample_weight, initial_epoch, steps_per_epoch, validation_steps, validation_batch_size, validation_freq, max_queue_size, workers, use_multiprocessing)\u001b[0m\n\u001b[0;32m    860\u001b[0m           val_x, val_y, val_sample_weight = (\n\u001b[0;32m    861\u001b[0m               data_adapter.unpack_x_y_sample_weight(validation_data))\n\u001b[1;32m--> 862\u001b[1;33m           val_logs = self.evaluate(\n\u001b[0m\u001b[0;32m    863\u001b[0m               \u001b[0mx\u001b[0m\u001b[1;33m=\u001b[0m\u001b[0mval_x\u001b[0m\u001b[1;33m,\u001b[0m\u001b[1;33m\u001b[0m\u001b[1;33m\u001b[0m\u001b[0m\n\u001b[0;32m    864\u001b[0m               \u001b[0my\u001b[0m\u001b[1;33m=\u001b[0m\u001b[0mval_y\u001b[0m\u001b[1;33m,\u001b[0m\u001b[1;33m\u001b[0m\u001b[1;33m\u001b[0m\u001b[0m\n",
      "\u001b[1;32m~\\anaconda3\\envs\\tensorflow\\lib\\site-packages\\tensorflow\\python\\keras\\engine\\training.py\u001b[0m in \u001b[0;36m_method_wrapper\u001b[1;34m(self, *args, **kwargs)\u001b[0m\n\u001b[0;32m     64\u001b[0m   \u001b[1;32mdef\u001b[0m \u001b[0m_method_wrapper\u001b[0m\u001b[1;33m(\u001b[0m\u001b[0mself\u001b[0m\u001b[1;33m,\u001b[0m \u001b[1;33m*\u001b[0m\u001b[0margs\u001b[0m\u001b[1;33m,\u001b[0m \u001b[1;33m**\u001b[0m\u001b[0mkwargs\u001b[0m\u001b[1;33m)\u001b[0m\u001b[1;33m:\u001b[0m\u001b[1;33m\u001b[0m\u001b[1;33m\u001b[0m\u001b[0m\n\u001b[0;32m     65\u001b[0m     \u001b[1;32mif\u001b[0m \u001b[1;32mnot\u001b[0m \u001b[0mself\u001b[0m\u001b[1;33m.\u001b[0m\u001b[0m_in_multi_worker_mode\u001b[0m\u001b[1;33m(\u001b[0m\u001b[1;33m)\u001b[0m\u001b[1;33m:\u001b[0m  \u001b[1;31m# pylint: disable=protected-access\u001b[0m\u001b[1;33m\u001b[0m\u001b[1;33m\u001b[0m\u001b[0m\n\u001b[1;32m---> 66\u001b[1;33m       \u001b[1;32mreturn\u001b[0m \u001b[0mmethod\u001b[0m\u001b[1;33m(\u001b[0m\u001b[0mself\u001b[0m\u001b[1;33m,\u001b[0m \u001b[1;33m*\u001b[0m\u001b[0margs\u001b[0m\u001b[1;33m,\u001b[0m \u001b[1;33m**\u001b[0m\u001b[0mkwargs\u001b[0m\u001b[1;33m)\u001b[0m\u001b[1;33m\u001b[0m\u001b[1;33m\u001b[0m\u001b[0m\n\u001b[0m\u001b[0;32m     67\u001b[0m \u001b[1;33m\u001b[0m\u001b[0m\n\u001b[0;32m     68\u001b[0m     \u001b[1;31m# Running inside `run_distribute_coordinator` already.\u001b[0m\u001b[1;33m\u001b[0m\u001b[1;33m\u001b[0m\u001b[1;33m\u001b[0m\u001b[0m\n",
      "\u001b[1;32m~\\anaconda3\\envs\\tensorflow\\lib\\site-packages\\tensorflow\\python\\keras\\engine\\training.py\u001b[0m in \u001b[0;36mevaluate\u001b[1;34m(self, x, y, batch_size, verbose, sample_weight, steps, callbacks, max_queue_size, workers, use_multiprocessing, return_dict)\u001b[0m\n\u001b[0;32m   1079\u001b[0m                 step_num=step):\n\u001b[0;32m   1080\u001b[0m               \u001b[0mcallbacks\u001b[0m\u001b[1;33m.\u001b[0m\u001b[0mon_test_batch_begin\u001b[0m\u001b[1;33m(\u001b[0m\u001b[0mstep\u001b[0m\u001b[1;33m)\u001b[0m\u001b[1;33m\u001b[0m\u001b[1;33m\u001b[0m\u001b[0m\n\u001b[1;32m-> 1081\u001b[1;33m               \u001b[0mtmp_logs\u001b[0m \u001b[1;33m=\u001b[0m \u001b[0mtest_function\u001b[0m\u001b[1;33m(\u001b[0m\u001b[0miterator\u001b[0m\u001b[1;33m)\u001b[0m\u001b[1;33m\u001b[0m\u001b[1;33m\u001b[0m\u001b[0m\n\u001b[0m\u001b[0;32m   1082\u001b[0m               \u001b[1;31m# Catch OutOfRangeError for Datasets of unknown size.\u001b[0m\u001b[1;33m\u001b[0m\u001b[1;33m\u001b[0m\u001b[1;33m\u001b[0m\u001b[0m\n\u001b[0;32m   1083\u001b[0m               \u001b[1;31m# This blocks until the batch has finished executing.\u001b[0m\u001b[1;33m\u001b[0m\u001b[1;33m\u001b[0m\u001b[1;33m\u001b[0m\u001b[0m\n",
      "\u001b[1;32m~\\anaconda3\\envs\\tensorflow\\lib\\site-packages\\tensorflow\\python\\eager\\def_function.py\u001b[0m in \u001b[0;36m__call__\u001b[1;34m(self, *args, **kwds)\u001b[0m\n\u001b[0;32m    578\u001b[0m         \u001b[0mxla_context\u001b[0m\u001b[1;33m.\u001b[0m\u001b[0mExit\u001b[0m\u001b[1;33m(\u001b[0m\u001b[1;33m)\u001b[0m\u001b[1;33m\u001b[0m\u001b[1;33m\u001b[0m\u001b[0m\n\u001b[0;32m    579\u001b[0m     \u001b[1;32melse\u001b[0m\u001b[1;33m:\u001b[0m\u001b[1;33m\u001b[0m\u001b[1;33m\u001b[0m\u001b[0m\n\u001b[1;32m--> 580\u001b[1;33m       \u001b[0mresult\u001b[0m \u001b[1;33m=\u001b[0m \u001b[0mself\u001b[0m\u001b[1;33m.\u001b[0m\u001b[0m_call\u001b[0m\u001b[1;33m(\u001b[0m\u001b[1;33m*\u001b[0m\u001b[0margs\u001b[0m\u001b[1;33m,\u001b[0m \u001b[1;33m**\u001b[0m\u001b[0mkwds\u001b[0m\u001b[1;33m)\u001b[0m\u001b[1;33m\u001b[0m\u001b[1;33m\u001b[0m\u001b[0m\n\u001b[0m\u001b[0;32m    581\u001b[0m \u001b[1;33m\u001b[0m\u001b[0m\n\u001b[0;32m    582\u001b[0m     \u001b[1;32mif\u001b[0m \u001b[0mtracing_count\u001b[0m \u001b[1;33m==\u001b[0m \u001b[0mself\u001b[0m\u001b[1;33m.\u001b[0m\u001b[0m_get_tracing_count\u001b[0m\u001b[1;33m(\u001b[0m\u001b[1;33m)\u001b[0m\u001b[1;33m:\u001b[0m\u001b[1;33m\u001b[0m\u001b[1;33m\u001b[0m\u001b[0m\n",
      "\u001b[1;32m~\\anaconda3\\envs\\tensorflow\\lib\\site-packages\\tensorflow\\python\\eager\\def_function.py\u001b[0m in \u001b[0;36m_call\u001b[1;34m(self, *args, **kwds)\u001b[0m\n\u001b[0;32m    616\u001b[0m       \u001b[1;31m# In this case we have not created variables on the first call. So we can\u001b[0m\u001b[1;33m\u001b[0m\u001b[1;33m\u001b[0m\u001b[1;33m\u001b[0m\u001b[0m\n\u001b[0;32m    617\u001b[0m       \u001b[1;31m# run the first trace but we should fail if variables are created.\u001b[0m\u001b[1;33m\u001b[0m\u001b[1;33m\u001b[0m\u001b[1;33m\u001b[0m\u001b[0m\n\u001b[1;32m--> 618\u001b[1;33m       \u001b[0mresults\u001b[0m \u001b[1;33m=\u001b[0m \u001b[0mself\u001b[0m\u001b[1;33m.\u001b[0m\u001b[0m_stateful_fn\u001b[0m\u001b[1;33m(\u001b[0m\u001b[1;33m*\u001b[0m\u001b[0margs\u001b[0m\u001b[1;33m,\u001b[0m \u001b[1;33m**\u001b[0m\u001b[0mkwds\u001b[0m\u001b[1;33m)\u001b[0m\u001b[1;33m\u001b[0m\u001b[1;33m\u001b[0m\u001b[0m\n\u001b[0m\u001b[0;32m    619\u001b[0m       \u001b[1;32mif\u001b[0m \u001b[0mself\u001b[0m\u001b[1;33m.\u001b[0m\u001b[0m_created_variables\u001b[0m\u001b[1;33m:\u001b[0m\u001b[1;33m\u001b[0m\u001b[1;33m\u001b[0m\u001b[0m\n\u001b[0;32m    620\u001b[0m         raise ValueError(\"Creating variables on a non-first call to a function\"\n",
      "\u001b[1;32m~\\anaconda3\\envs\\tensorflow\\lib\\site-packages\\tensorflow\\python\\eager\\function.py\u001b[0m in \u001b[0;36m__call__\u001b[1;34m(self, *args, **kwargs)\u001b[0m\n\u001b[0;32m   2418\u001b[0m     \u001b[1;32mwith\u001b[0m \u001b[0mself\u001b[0m\u001b[1;33m.\u001b[0m\u001b[0m_lock\u001b[0m\u001b[1;33m:\u001b[0m\u001b[1;33m\u001b[0m\u001b[1;33m\u001b[0m\u001b[0m\n\u001b[0;32m   2419\u001b[0m       \u001b[0mgraph_function\u001b[0m\u001b[1;33m,\u001b[0m \u001b[0margs\u001b[0m\u001b[1;33m,\u001b[0m \u001b[0mkwargs\u001b[0m \u001b[1;33m=\u001b[0m \u001b[0mself\u001b[0m\u001b[1;33m.\u001b[0m\u001b[0m_maybe_define_function\u001b[0m\u001b[1;33m(\u001b[0m\u001b[0margs\u001b[0m\u001b[1;33m,\u001b[0m \u001b[0mkwargs\u001b[0m\u001b[1;33m)\u001b[0m\u001b[1;33m\u001b[0m\u001b[1;33m\u001b[0m\u001b[0m\n\u001b[1;32m-> 2420\u001b[1;33m     \u001b[1;32mreturn\u001b[0m \u001b[0mgraph_function\u001b[0m\u001b[1;33m.\u001b[0m\u001b[0m_filtered_call\u001b[0m\u001b[1;33m(\u001b[0m\u001b[0margs\u001b[0m\u001b[1;33m,\u001b[0m \u001b[0mkwargs\u001b[0m\u001b[1;33m)\u001b[0m  \u001b[1;31m# pylint: disable=protected-access\u001b[0m\u001b[1;33m\u001b[0m\u001b[1;33m\u001b[0m\u001b[0m\n\u001b[0m\u001b[0;32m   2421\u001b[0m \u001b[1;33m\u001b[0m\u001b[0m\n\u001b[0;32m   2422\u001b[0m   \u001b[1;33m@\u001b[0m\u001b[0mproperty\u001b[0m\u001b[1;33m\u001b[0m\u001b[1;33m\u001b[0m\u001b[0m\n",
      "\u001b[1;32m~\\anaconda3\\envs\\tensorflow\\lib\\site-packages\\tensorflow\\python\\eager\\function.py\u001b[0m in \u001b[0;36m_filtered_call\u001b[1;34m(self, args, kwargs)\u001b[0m\n\u001b[0;32m   1659\u001b[0m       \u001b[0;31m`\u001b[0m\u001b[0margs\u001b[0m\u001b[0;31m`\u001b[0m \u001b[1;32mand\u001b[0m\u001b[0;31m \u001b[0m\u001b[0;31m`\u001b[0m\u001b[0mkwargs\u001b[0m\u001b[0;31m`\u001b[0m\u001b[1;33m.\u001b[0m\u001b[1;33m\u001b[0m\u001b[1;33m\u001b[0m\u001b[0m\n\u001b[0;32m   1660\u001b[0m     \"\"\"\n\u001b[1;32m-> 1661\u001b[1;33m     return self._call_flat(\n\u001b[0m\u001b[0;32m   1662\u001b[0m         (t for t in nest.flatten((args, kwargs), expand_composites=True)\n\u001b[0;32m   1663\u001b[0m          if isinstance(t, (ops.Tensor,\n",
      "\u001b[1;32m~\\anaconda3\\envs\\tensorflow\\lib\\site-packages\\tensorflow\\python\\eager\\function.py\u001b[0m in \u001b[0;36m_call_flat\u001b[1;34m(self, args, captured_inputs, cancellation_manager)\u001b[0m\n\u001b[0;32m   1743\u001b[0m         and executing_eagerly):\n\u001b[0;32m   1744\u001b[0m       \u001b[1;31m# No tape is watching; skip to running the function.\u001b[0m\u001b[1;33m\u001b[0m\u001b[1;33m\u001b[0m\u001b[1;33m\u001b[0m\u001b[0m\n\u001b[1;32m-> 1745\u001b[1;33m       return self._build_call_outputs(self._inference_function.call(\n\u001b[0m\u001b[0;32m   1746\u001b[0m           ctx, args, cancellation_manager=cancellation_manager))\n\u001b[0;32m   1747\u001b[0m     forward_backward = self._select_forward_and_backward_functions(\n",
      "\u001b[1;32m~\\anaconda3\\envs\\tensorflow\\lib\\site-packages\\tensorflow\\python\\eager\\function.py\u001b[0m in \u001b[0;36mcall\u001b[1;34m(self, ctx, args, cancellation_manager)\u001b[0m\n\u001b[0;32m    591\u001b[0m       \u001b[1;32mwith\u001b[0m \u001b[0m_InterpolateFunctionError\u001b[0m\u001b[1;33m(\u001b[0m\u001b[0mself\u001b[0m\u001b[1;33m)\u001b[0m\u001b[1;33m:\u001b[0m\u001b[1;33m\u001b[0m\u001b[1;33m\u001b[0m\u001b[0m\n\u001b[0;32m    592\u001b[0m         \u001b[1;32mif\u001b[0m \u001b[0mcancellation_manager\u001b[0m \u001b[1;32mis\u001b[0m \u001b[1;32mNone\u001b[0m\u001b[1;33m:\u001b[0m\u001b[1;33m\u001b[0m\u001b[1;33m\u001b[0m\u001b[0m\n\u001b[1;32m--> 593\u001b[1;33m           outputs = execute.execute(\n\u001b[0m\u001b[0;32m    594\u001b[0m               \u001b[0mstr\u001b[0m\u001b[1;33m(\u001b[0m\u001b[0mself\u001b[0m\u001b[1;33m.\u001b[0m\u001b[0msignature\u001b[0m\u001b[1;33m.\u001b[0m\u001b[0mname\u001b[0m\u001b[1;33m)\u001b[0m\u001b[1;33m,\u001b[0m\u001b[1;33m\u001b[0m\u001b[1;33m\u001b[0m\u001b[0m\n\u001b[0;32m    595\u001b[0m               \u001b[0mnum_outputs\u001b[0m\u001b[1;33m=\u001b[0m\u001b[0mself\u001b[0m\u001b[1;33m.\u001b[0m\u001b[0m_num_outputs\u001b[0m\u001b[1;33m,\u001b[0m\u001b[1;33m\u001b[0m\u001b[1;33m\u001b[0m\u001b[0m\n",
      "\u001b[1;32m~\\anaconda3\\envs\\tensorflow\\lib\\site-packages\\tensorflow\\python\\eager\\execute.py\u001b[0m in \u001b[0;36mquick_execute\u001b[1;34m(op_name, num_outputs, inputs, attrs, ctx, name)\u001b[0m\n\u001b[0;32m     57\u001b[0m   \u001b[1;32mtry\u001b[0m\u001b[1;33m:\u001b[0m\u001b[1;33m\u001b[0m\u001b[1;33m\u001b[0m\u001b[0m\n\u001b[0;32m     58\u001b[0m     \u001b[0mctx\u001b[0m\u001b[1;33m.\u001b[0m\u001b[0mensure_initialized\u001b[0m\u001b[1;33m(\u001b[0m\u001b[1;33m)\u001b[0m\u001b[1;33m\u001b[0m\u001b[1;33m\u001b[0m\u001b[0m\n\u001b[1;32m---> 59\u001b[1;33m     tensors = pywrap_tfe.TFE_Py_Execute(ctx._handle, device_name, op_name,\n\u001b[0m\u001b[0;32m     60\u001b[0m                                         inputs, attrs, num_outputs)\n\u001b[0;32m     61\u001b[0m   \u001b[1;32mexcept\u001b[0m \u001b[0mcore\u001b[0m\u001b[1;33m.\u001b[0m\u001b[0m_NotOkStatusException\u001b[0m \u001b[1;32mas\u001b[0m \u001b[0me\u001b[0m\u001b[1;33m:\u001b[0m\u001b[1;33m\u001b[0m\u001b[1;33m\u001b[0m\u001b[0m\n",
      "\u001b[1;31mInvalidArgumentError\u001b[0m:  assertion failed: [Condition x == y did not hold element-wise:] [x (logits_loss/SparseSoftmaxCrossEntropyWithLogits/Shape_1:0) = ] [36 49] [y (logits_loss/SparseSoftmaxCrossEntropyWithLogits/strided_slice:0) = ] [128 49]\n\t [[node logits_loss/SparseSoftmaxCrossEntropyWithLogits/assert_equal_1/Assert/Assert (defined at <ipython-input-40-e8b1843a5f63>:4) ]] [Op:__inference_test_function_11074]\n\nFunction call stack:\ntest_function\n"
     ]
    }
   ],
   "source": [
    "history = model.fit(train_dataset, epochs=EPOCHS, validation_data=test_dataset, initial_epoch=0,\n",
    "         callbacks=[checkpoint_callback,early_stopping])"
   ]
  },
  {
   "cell_type": "code",
   "execution_count": 12,
   "metadata": {},
   "outputs": [],
   "source": [
    "def generate_text(model, img, start_string, new_line_freq=20, temperature=.75):\n",
    "    num_generate = 15\n",
    "    img = np.array([img], dtype=np.float32)/255.\n",
    "    seq = tokenizer.texts_to_sequences([start_string])\n",
    "    print(seq)\n",
    "    input_dict = {'input_1': img,\n",
    "              'input_2': seq}\n",
    "    #input_eval = tf.expand_dims(input_eval, 0)\n",
    "    start_length = len(input_dict['input_2'])\n",
    "    model.reset_states()\n",
    "    text_generated = []\n",
    "    for i in range(num_generate):\n",
    "        predictions = model(input_dict)\n",
    "        predictions = tf.squeeze(predictions,0) #remove batch dimension\n",
    "        predictions = predictions / temperature\n",
    "        predicted_word = ''\n",
    "        #while predicted_word!='endofseq':\n",
    "        predicted_id = tf.random.categorical(predictions,num_samples=1)[-1,0].numpy()\n",
    "\n",
    "        input_dict['input_2'][0].append(predicted_id)\n",
    "        #print(input_dict['input_2'])\n",
    "        predicted_word = tokenizer.sequences_to_texts([[predicted_id]])[0]\n",
    "        #print(predicted_word)\n",
    "\n",
    "        text_generated.append(predicted_word + ' ')\n",
    "        #if predicted_word == 'endofseq':\n",
    "         #   break\n",
    "        if (i-start_length) % 20 == 0:\n",
    "              text_generated.append('\\n')\n",
    "    print(input_dict['input_2'])\n",
    "    return (start_string + ''.join(text_generated))"
   ]
  },
  {
   "cell_type": "code",
   "execution_count": 67,
   "metadata": {},
   "outputs": [
    {
     "data": {
      "text/plain": [
       "<matplotlib.image.AxesImage at 0x123b6b0e4c0>"
      ]
     },
     "execution_count": 67,
     "metadata": {},
     "output_type": "execute_result"
    },
    {
     "data": {
      "image/png": "[encoded data removed]",
      "text/plain": [
       "<Figure size 432x288 with 1 Axes>"
      ]
     },
     "metadata": {
      "needs_background": "light"
     },
     "output_type": "display_data"
    }
   ],
   "source": [
    "imgs = lookup_img('3eq9to')\n",
    "plt.imshow(to_rgb(imgs[0]))"
   ]
  },
  {
   "cell_type": "code",
   "execution_count": 13,
   "metadata": {},
   "outputs": [
    {
     "data": {
      "text/plain": [
       "<tensorflow.python.training.tracking.util.CheckpointLoadStatus at 0x28d03246e80>"
      ]
     },
     "execution_count": 13,
     "metadata": {},
     "output_type": "execute_result"
    }
   ],
   "source": [
    "#model = RoastBot(vocab_size=4000, embedding_dim=256,batch_size=1,conv_arr=conv_arr,rnn_arr=rnn_arr)\n",
    "model.load_weights(tf.train.latest_checkpoint(checkpoint_dir))\n",
    "#model.build(tf.TensorShape([1,None]))"
   ]
  },
  {
   "cell_type": "code",
   "execution_count": 19,
   "metadata": {},
   "outputs": [
    {
     "name": "stdout",
     "output_type": "stream",
     "text": [
      "[[2, 10, 7]]\n",
      "[[2, 10, 7, 295, 3, 15, 35, 5, 25, 82, 33, 33, 1, 1, 205, 78, 8, 24]]\n"
     ]
    },
    {
     "data": {
      "text/plain": [
       "'You look like homeless the \\non out your looks too as as endofseq endofseq actually still of this '"
      ]
     },
     "execution_count": 19,
     "metadata": {},
     "output_type": "execute_result"
    }
   ],
   "source": [
    "generate_text(model, to_rgb(imgs[0]), u'You look like ', temperature=.99)"
   ]
  },
  {
   "cell_type": "code",
   "execution_count": null,
   "metadata": {},
   "outputs": [],
   "source": []
  }
 ],
 "metadata": {
  "kernelspec": {
   "display_name": "Python (tf)",
   "language": "python",
   "name": "tensorflow"
  },
  "language_info": {
   "codemirror_mode": {
    "name": "ipython",
    "version": 3
   },
   "file_extension": ".py",
   "mimetype": "text/x-python",
   "name": "python",
   "nbconvert_exporter": "python",
   "pygments_lexer": "ipython3",
   "version": "3.8.3"
  }
 },
 "nbformat": 4,
 "nbformat_minor": 4
}
